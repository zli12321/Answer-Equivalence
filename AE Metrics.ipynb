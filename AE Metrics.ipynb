{
 "cells": [
  {
   "cell_type": "markdown",
   "id": "5b8f2c12",
   "metadata": {},
   "source": [
    "# METEOR"
   ]
  },
  {
   "cell_type": "code",
   "execution_count": 5,
   "id": "dcc0742c",
   "metadata": {},
   "outputs": [
    {
     "name": "stderr",
     "output_type": "stream",
     "text": [
      "[nltk_data] Downloading package wordnet to\n",
      "[nltk_data]     /Users/zongxiali/nltk_data...\n",
      "[nltk_data]   Package wordnet is already up-to-date!\n"
     ]
    },
    {
     "name": "stdout",
     "output_type": "stream",
     "text": [
      "METEOR Score: 0.5438202247191011\n"
     ]
    }
   ],
   "source": [
    "import nltk\n",
    "from nltk.translate import meteor_score\n",
    "\n",
    "# Ensure that you have the required resources downloaded\n",
    "nltk.download('wordnet')\n",
    "\n",
    "# Define the reference and hypothesis strings\n",
    "reference = \"It is a guide to action which ensures that the military always obeys the commands of the party.\"\n",
    "hypothesis = \"It is a guide to action that ensures that the military will forever heed Party commands.\"\n",
    "\n",
    "# Tokenize the hypothesis string into a list of words\n",
    "tokenized_reference = reference.split()\n",
    "tokenized_hypothesis = hypothesis.split()\n",
    "\n",
    "# Compute the METEOR score\n",
    "meteor_sc = meteor_score.single_meteor_score(tokenized_reference, tokenized_hypothesis)\n",
    "\n",
    "print(f'METEOR Score: {meteor_sc}')"
   ]
  },
  {
   "cell_type": "markdown",
   "id": "022e1cd9",
   "metadata": {},
   "source": [
    "# F1 Matching"
   ]
  },
  {
   "cell_type": "code",
   "execution_count": 16,
   "id": "b52847a5",
   "metadata": {},
   "outputs": [
    {
     "name": "stdout",
     "output_type": "stream",
     "text": [
      "0.888888888888889\n"
     ]
    }
   ],
   "source": [
    "def compute_f1(reference, prediction):\n",
    "    # Tokenize the strings into words\n",
    "    reference_tokens = set(reference.split())\n",
    "    prediction_tokens = set(prediction.split())\n",
    "\n",
    "    # Calculate the number of shared tokens\n",
    "    common = reference_tokens.intersection(prediction_tokens)\n",
    "\n",
    "    # If there are no shared tokens, F1 is 0\n",
    "    if not common:\n",
    "        return 0.0\n",
    "\n",
    "    # Calculate precision and recall\n",
    "    precision = len(common) / len(prediction_tokens)\n",
    "    recall = len(common) / len(reference_tokens)\n",
    "\n",
    "    # Calculate F1 score\n",
    "    f1 = 2 * (precision * recall) / (precision + recall)\n",
    "\n",
    "    return f1\n",
    "\n",
    "# Example usage:\n",
    "reference = \"this is a sample string\"\n",
    "prediction = \"this is a string\"\n",
    "print(compute_f1(reference, prediction))"
   ]
  },
  {
   "cell_type": "markdown",
   "id": "1bfcbe83",
   "metadata": {},
   "source": [
    "# EM matching"
   ]
  },
  {
   "cell_type": "code",
   "execution_count": 17,
   "id": "268364e7",
   "metadata": {},
   "outputs": [
    {
     "name": "stdout",
     "output_type": "stream",
     "text": [
      "Exact Match: 0\n"
     ]
    }
   ],
   "source": [
    "import re\n",
    "import string\n",
    "\n",
    "def normalize_answer(s: str) -> str:\n",
    "    \"\"\"\n",
    "    Lowercase text and remove punctuation, articles, and extra whitespace.\n",
    "    \"\"\"\n",
    "    \n",
    "    def remove_articles(text: str) -> str:\n",
    "        return re.sub(r'\\b(a|an|the)\\b', ' ', text)\n",
    "    \n",
    "    def white_space_fix(text: str) -> str:\n",
    "        return ' '.join(text.split())\n",
    "    \n",
    "    def remove_punc(text: str) -> str:\n",
    "        exclude = set(string.punctuation)\n",
    "        return ''.join(ch for ch in text if ch not in exclude)\n",
    "\n",
    "    return white_space_fix(remove_articles(remove_punc(s.lower())))\n",
    "\n",
    "def exact_match_score(prediction: str, ground_truth: str) -> int:\n",
    "    \"\"\"\n",
    "    Computes the Exact Match (EM) score between the predicted and ground truth answers.\n",
    "    Returns 1 if the answers match exactly, and 0 otherwise.\n",
    "    \"\"\"\n",
    "    return 1 if normalize_answer(prediction) == normalize_answer(ground_truth) else 0\n",
    "\n",
    "# Example usage:\n",
    "prediction = \"He is a high school student in Phoenix\"\n",
    "ground_truth = \"A highschool student in Phoenix\"\n",
    "\n",
    "em_score = exact_match_score(prediction, ground_truth)\n",
    "print(f'Exact Match: {em_score}')\n"
   ]
  },
  {
   "cell_type": "code",
   "execution_count": null,
   "id": "08b77345",
   "metadata": {},
   "outputs": [],
   "source": []
  }
 ],
 "metadata": {
  "kernelspec": {
   "display_name": "Python 3 (ipykernel)",
   "language": "python",
   "name": "python3"
  },
  "language_info": {
   "codemirror_mode": {
    "name": "ipython",
    "version": 3
   },
   "file_extension": ".py",
   "mimetype": "text/x-python",
   "name": "python",
   "nbconvert_exporter": "python",
   "pygments_lexer": "ipython3",
   "version": "3.9.13"
  }
 },
 "nbformat": 4,
 "nbformat_minor": 5
}
